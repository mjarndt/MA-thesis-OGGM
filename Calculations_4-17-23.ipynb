{
 "cells": [
  {
   "cell_type": "markdown",
   "id": "d31bebc2-d6dc-417d-a0c1-1c02ac0db1e1",
   "metadata": {},
   "source": [
    "# <b> Calculating statistics for annual and seasonal runoff"
   ]
  },
  {
   "cell_type": "markdown",
   "id": "8628f21d-b88e-42d8-a4c4-cace31a8feb1",
   "metadata": {},
   "source": [
    "### Updated 4/17 by MA"
   ]
  },
  {
   "cell_type": "markdown",
   "id": "5efb357a-76c6-4477-a80f-24bc56cddd29",
   "metadata": {},
   "source": [
    "## <b> Setting up the workspace"
   ]
  },
  {
   "cell_type": "code",
   "execution_count": 1,
   "id": "4283949d-1207-4a43-96fc-88760f614508",
   "metadata": {},
   "outputs": [],
   "source": [
    "import matplotlib.pyplot as plt\n",
    "import xarray as xr\n",
    "import numpy as np\n",
    "import pandas as pd\n",
    "import geopandas as gpd\n",
    "import seaborn as sns\n",
    "import shapely.geometry as shpg"
   ]
  },
  {
   "cell_type": "code",
   "execution_count": 2,
   "id": "6fd5a1e1-1272-45d2-85fb-f421402af4bb",
   "metadata": {},
   "outputs": [],
   "source": [
    "from oggm import cfg, utils, workflow, tasks, graphics"
   ]
  },
  {
   "cell_type": "code",
   "execution_count": 3,
   "id": "410d1e33-29a9-4d92-bc74-b06014321b98",
   "metadata": {},
   "outputs": [
    {
     "data": {
      "text/plain": [
       "'/home/ulteelab/OGGM/rgi/RGIV62'"
      ]
     },
     "execution_count": 3,
     "metadata": {},
     "output_type": "execute_result"
    }
   ],
   "source": [
    "# Download glacier outlines\n",
    "utils.get_rgi_dir(version='62')  # path to the data after download"
   ]
  },
  {
   "cell_type": "code",
   "execution_count": 4,
   "id": "76ec6deb-c216-4718-a2bc-4e3fde21b439",
   "metadata": {},
   "outputs": [],
   "source": [
    "# Get rgi region file for region 16 (South America)\n",
    "fr = utils.get_rgi_region_file(16, version='62')"
   ]
  },
  {
   "cell_type": "code",
   "execution_count": 5,
   "id": "750f6c37-9311-476a-bd73-d9b1d55db318",
   "metadata": {},
   "outputs": [],
   "source": [
    "# Read file as as geopandas\n",
    "gdf = gpd.read_file(fr)"
   ]
  },
  {
   "cell_type": "code",
   "execution_count": 6,
   "id": "27d69242-6124-4899-965a-d9034399e596",
   "metadata": {},
   "outputs": [],
   "source": [
    "# Add basin shapefile\n",
    "path = '~/Documents/Molly-thesis/Data/Basin_shapefiles/output/LaPaz_dissolved.shp' \n",
    "basin = gpd.read_file(path)"
   ]
  },
  {
   "cell_type": "code",
   "execution_count": 7,
   "id": "8d2262e8-2569-468a-bc28-fad16aeb1512",
   "metadata": {},
   "outputs": [],
   "source": [
    "# Select glaciers within the basin\n",
    "in_bas = [basin.geometry.contains(shpg.Point(x, y))[0] for\n",
    "          (x, y) in zip(gdf.CenLon, gdf.CenLat)]\n",
    "gdf_sel = gdf.loc[in_bas]"
   ]
  },
  {
   "cell_type": "code",
   "execution_count": 8,
   "id": "a939b0da-c158-4123-b220-f9d2d016c6a0",
   "metadata": {},
   "outputs": [],
   "source": [
    "# Select rgi id's from the gdf_sel file\n",
    "rgi_ids = gdf_sel['RGIId']"
   ]
  },
  {
   "cell_type": "markdown",
   "id": "c6c58884-bad8-445d-9989-edec73815da4",
   "metadata": {},
   "source": [
    "## <b> Defining Functions"
   ]
  },
  {
   "cell_type": "markdown",
   "id": "1eb588a5-219f-418e-b673-d53fec3a2b28",
   "metadata": {},
   "source": [
    "### Annual"
   ]
  },
  {
   "cell_type": "code",
   "execution_count": 9,
   "id": "745cece7-fadc-46ca-a0f1-8ec93a6b9621",
   "metadata": {},
   "outputs": [],
   "source": [
    "def make_summed_series(fpath_stem, which_date, which_gcm, which_rcp):\n",
    "    this_fpath = fpath_stem+'{}-gcm_data_{}_{}_compiled_output.nc'.format(which_date, which_gcm, which_rcp)\n",
    "    this_ds = xr.open_dataset(this_fpath)\n",
    "    melt1 = this_ds.melt_on_glacier\n",
    "    melt2 = this_ds.melt_off_glacier\n",
    "    melt3 = this_ds.liq_prcp_off_glacier\n",
    "    melt4 = this_ds.liq_prcp_on_glacier\n",
    "    \n",
    "    this_sum = melt1.sum(dim='rgi_id').dropna(dim='time') + melt2.sum(dim='rgi_id').dropna(dim='time') + melt3.sum(dim='rgi_id').dropna(dim='time') + melt4.sum(dim='rgi_id').dropna(dim='time')\n",
    "    nonzero_sum = this_sum.where(this_sum!=0, drop=True)\n",
    "    nonzero_sum *= 1e-9\n",
    "    return nonzero_sum"
   ]
  },
  {
   "cell_type": "code",
   "execution_count": 10,
   "id": "4a9e36f3-b4b5-4a06-9c68-a7ea6f8b1fdf",
   "metadata": {},
   "outputs": [],
   "source": [
    "# Function for good gcms\n",
    "def process_all_rcps(which_gcm, fpath_stem, which_date, rcp_list=['rcp26', 'rcp45', 'rcp60', 'rcp85']):\n",
    "    gcm = which_gcm\n",
    "    base_fpath = fpath_stem\n",
    "    date = which_date\n",
    "    all_series = []\n",
    "    for rcp in rcp_list:\n",
    "        s = make_summed_series(which_gcm=gcm, which_rcp=rcp, fpath_stem=base_fpath, which_date=date)\n",
    "        all_series.append(s)\n",
    "    \n",
    "    return all_series"
   ]
  },
  {
   "cell_type": "code",
   "execution_count": 11,
   "id": "13a89930-c77c-4565-bd33-3d53ff9ed4b4",
   "metadata": {},
   "outputs": [],
   "source": [
    "def process_3_rcps(which_gcm, fpath_stem, which_date, rcp_list=['rcp26', 'rcp45', 'rcp85']):\n",
    "    gcm = which_gcm\n",
    "    base_fpath = fpath_stem\n",
    "    date = which_date\n",
    "    all_series = []\n",
    "    for rcp in rcp_list:\n",
    "        s = make_summed_series(which_gcm=gcm, which_rcp=rcp, fpath_stem=base_fpath, which_date=date)\n",
    "        all_series.append(s)\n",
    "    \n",
    "    return all_series"
   ]
  },
  {
   "cell_type": "code",
   "execution_count": 12,
   "id": "5456c71a-dae5-409f-bb2f-dce553378711",
   "metadata": {},
   "outputs": [],
   "source": [
    "# Make a series with different runoff stems\n",
    "def make_series(runoff_stem, fpath_stem, which_date, which_gcm, which_rcp):\n",
    "    this_fpath = fpath_stem+'{}-gcm_data_{}_{}_compiled_output.nc'.format(which_date, which_gcm, which_rcp)\n",
    "    this_ds = xr.open_dataset(this_fpath)\n",
    "    this_ds_runoff = this_ds[runoff_stem]\n",
    "    this_runoff = this_ds_runoff.sum(dim='rgi_id').dropna(dim='time')\n",
    "    nonzero_sum = this_runoff.where(this_runoff!=0, drop=True)\n",
    "    nonzero_sum *= 1e-9\n",
    "    return nonzero_sum"
   ]
  },
  {
   "cell_type": "code",
   "execution_count": 13,
   "id": "8d6848b2-9ac9-40d6-92e5-a3b960963755",
   "metadata": {},
   "outputs": [],
   "source": [
    "# Make a dictionary for each runoff type\n",
    "def to_dict(gcm_list, runoff_stem, fpath_stem, which_date, which_rcp):\n",
    "    x=0\n",
    "    dictionary = {}\n",
    "    for gcm in gcm_list:\n",
    "        rcp_values = make_series(runoff_stem, fpath_stem, which_date[x], which_gcm=gcm, which_rcp=rcp)\n",
    "        k = '{}'.format(gcm)\n",
    "        dictionary[k]=rcp_values\n",
    "        x += 1\n",
    "    return dictionary"
   ]
  },
  {
   "cell_type": "code",
   "execution_count": 72,
   "id": "d87fe8ca-a1ad-4254-bb94-810cbe6bd83f",
   "metadata": {},
   "outputs": [],
   "source": [
    "# Turn each runoff type into a dataframe and find the mean\n",
    "def to_df(dataframe):\n",
    "    my_df = pd.DataFrame(dataframe)\n",
    "    my_df['mean'] = my_df.transpose().mean(axis=0)\n",
    "    return my_df"
   ]
  },
  {
   "cell_type": "markdown",
   "id": "c802e6fe-e56c-4171-8884-c5819a29c5f2",
   "metadata": {},
   "source": [
    "### Seasonal"
   ]
  },
  {
   "cell_type": "code",
   "execution_count": 14,
   "id": "65999b2e-bfdd-4bd7-afaf-eff8c3ff77f8",
   "metadata": {},
   "outputs": [],
   "source": [
    "# Function: load the dataset\n",
    "def open_series(fpath_stem, which_date, which_gcm, which_rcp):\n",
    "    this_fpath = fpath_stem+'{}-gcm_data_{}_{}_compiled_output.nc'.format(which_date, which_gcm, which_rcp)\n",
    "    this_ds = xr.open_dataset(this_fpath)\n",
    "    return this_ds"
   ]
  },
  {
   "cell_type": "code",
   "execution_count": 15,
   "id": "9b0749c6-07e3-4e8c-9dd9-03f250f9ca24",
   "metadata": {},
   "outputs": [],
   "source": [
    "# Function: calculate runoff\n",
    "def calc_seasonal(this_ds):\n",
    "    melt1 = this_ds.melt_on_glacier_monthly\n",
    "    melt2 = this_ds.melt_off_glacier_monthly\n",
    "    melt3 = this_ds.liq_prcp_off_glacier_monthly\n",
    "    melt4 = this_ds.liq_prcp_on_glacier_monthly\n",
    "    \n",
    "    this_sum = melt1.sum(dim='rgi_id').dropna(dim='time') + melt2.sum(dim='rgi_id').dropna(dim='time') + melt3.sum(dim='rgi_id').dropna(dim='time') + melt4.sum(dim='rgi_id').dropna(dim='time')\n",
    "    nonzero_sum = this_sum.where(this_sum!=0, drop=True)\n",
    "    nonzero_sum *= 1e-9\n",
    "\n",
    "    return nonzero_sum"
   ]
  },
  {
   "cell_type": "code",
   "execution_count": 16,
   "id": "5ad26006-525e-410a-9b69-f6a9bdede362",
   "metadata": {},
   "outputs": [],
   "source": [
    "# Function: select a year and take the mean runoff of all gcms for this year\n",
    "def season_sliced(keys, dictionary, time):\n",
    "    new_df = pd.DataFrame()\n",
    "    for k in keys:\n",
    "        new = dictionary[k]\n",
    "        new = new[time]\n",
    "        new = pd.DataFrame(new)\n",
    "        new_df[k] = new\n",
    "    new_df['mean'] = new_df.transpose().mean()\n",
    "    return new_df"
   ]
  },
  {
   "cell_type": "code",
   "execution_count": 17,
   "id": "e66a8e11-eb1a-4c79-886c-05137f35f7fe",
   "metadata": {
    "tags": []
   },
   "outputs": [],
   "source": [
    "# Make a function that calculates a given runoff value, which I can visualize later\n",
    "def rtype_calc_monthly(keys, dictionary, runoff):\n",
    "    dataframe = pd.DataFrame()\n",
    "    for k in keys:\n",
    "        rtype_gcm = dictionary[k]\n",
    "        rtype = rtype_gcm[runoff]\n",
    "        rtype = pd.DataFrame(rtype)\n",
    "        dataframe[k] = rtype\n",
    "    dataframe['mean'] = dataframe.transpose().mean()\n",
    "    return dataframe"
   ]
  },
  {
   "cell_type": "code",
   "execution_count": 18,
   "id": "c9053d70-dc67-42c0-87a3-abfb3d7fb708",
   "metadata": {},
   "outputs": [],
   "source": [
    "# Make a function that calculates a given runoff value, which I can visualize later\n",
    "def rtype_calc_monthly_2vars(keys, dictionary, runoff1, runoff2):\n",
    "    dataframe = pd.DataFrame()\n",
    "    for k in keys:\n",
    "        rtype_gcm = dictionary[k]\n",
    "        rtype1 = rtype_gcm[runoff1]\n",
    "        rtype2 = rtype_gcm[runoff2]\n",
    "        rsum = rtype1 + rtype2\n",
    "        rtype_sum = pd.DataFrame(rsum)\n",
    "        dataframe[k] = rtype_sum\n",
    "    dataframe['mean'] = dataframe.transpose().mean()\n",
    "    return dataframe"
   ]
  },
  {
   "cell_type": "markdown",
   "id": "c26dfd1c-1d04-4334-bca8-d26687ece3c9",
   "metadata": {},
   "source": [
    "## Things I want to do: <br>\n",
    "- (DONE) Find values of volume at the beginning of the simulation and the end (for each RCP) and find the diff between RCP 26 and 85 <br>\n",
    "- Find the spread of GCM values of volume for each rcp scenario (what is the range > max - min) <br>\n",
    "- Find average range of GCM spread of total runoff during first decade and last decade of the simulation, also spread of each component <br>\n",
    "- Find mean Month during which mean runoff is at it's peak and trough for each time slice (by RCP), also find spread and VALUE of runoff at that time <br>\n",
    "- Find mean month of liquid precip vs melt off glacier vs melt on glacier peaks, also GCM spread <br>\n",
    "- "
   ]
  },
  {
   "cell_type": "markdown",
   "id": "e137fc36-81d5-455b-a0a2-adc9a07ce2f7",
   "metadata": {},
   "source": [
    "### Volume"
   ]
  },
  {
   "cell_type": "code",
   "execution_count": 19,
   "id": "d3c3fc8e-bcdf-4752-b7b8-0796a995a0f8",
   "metadata": {},
   "outputs": [],
   "source": [
    "gcm_list = ['CCSM4', 'CNRM-CM5', 'CSIRO-Mk3-6-0', 'CanESM2', 'GFDL-CM3', 'GFDL-ESM2G', 'GISS-E2-R', 'IPSL-CM5A-LR', 'MPI-ESM-LR', 'NorESM1-M']\n",
    "date_list = ['2023-01-12', '2023-01-23', '2023-01-17', '2023-01-23', '2023-01-23', '2023-01-23', '2023-01-23', '2023-01-25', '2023-01-25', '2023-01-25']\n",
    "base = '~/Documents/Molly-thesis/Data/'\n",
    "rcp='rcp26'\n",
    "\n",
    "runoff = 'volume'\n",
    "rcp26_volume = to_dict(gcm_list, runoff_stem=runoff, fpath_stem=base, which_date=date_list, which_rcp=rcp)\n",
    "\n",
    "rcp26_df_v = pd.DataFrame(rcp26_volume)\n",
    "\n",
    "rcp26_df_v['mean'] = rcp26_df_v.transpose().mean()"
   ]
  },
  {
   "cell_type": "code",
   "execution_count": 20,
   "id": "ace8ea7f-e694-490a-bd1a-1f91cb0a3de5",
   "metadata": {},
   "outputs": [],
   "source": [
    "gcm_list = ['CCSM4', 'CNRM-CM5', 'CSIRO-Mk3-6-0', 'CanESM2', 'GFDL-CM3', 'GFDL-ESM2G', 'GISS-E2-R', 'IPSL-CM5A-LR', 'MPI-ESM-LR', 'NorESM1-M']\n",
    "date_list = ['2023-01-12', '2023-01-23', '2023-01-17', '2023-01-23', '2023-01-23', '2023-01-23', '2023-01-23', '2023-01-25', '2023-01-25', '2023-01-25']\n",
    "base = '~/Documents/Molly-thesis/Data/'\n",
    "rcp='rcp45'\n",
    "runoff = 'volume'\n",
    "\n",
    "rcp45_volume = to_dict(gcm_list, runoff_stem=runoff, fpath_stem=base, which_date=date_list, which_rcp=rcp)\n",
    "\n",
    "rcp45_df_v = pd.DataFrame(rcp45_volume)\n",
    "\n",
    "rcp45_df_v['mean'] = rcp45_df_v.transpose().mean()"
   ]
  },
  {
   "cell_type": "code",
   "execution_count": 21,
   "id": "fb88c34c-09af-431a-bd07-f69c8b671a70",
   "metadata": {},
   "outputs": [],
   "source": [
    "gcm_list = ['CCSM4', 'CSIRO-Mk3-6-0', 'GFDL-CM3', 'GFDL-ESM2G', 'GISS-E2-R', 'IPSL-CM5A-LR', 'NorESM1-M']\n",
    "date_list = ['2023-01-12', '2023-01-17', '2023-01-23', '2023-01-23', '2023-01-23', '2023-01-25', '2023-01-25']\n",
    "base = '~/Documents/Molly-thesis/Data/'\n",
    "rcp='rcp60'\n",
    "runoff = 'volume'\n",
    "\n",
    "rcp60_volume = to_dict(gcm_list, runoff_stem=runoff, fpath_stem=base, which_date=date_list, which_rcp=rcp)\n",
    "\n",
    "rcp60_df_v = pd.DataFrame(rcp60_volume)\n",
    "\n",
    "rcp60_df_v['mean'] = rcp60_df_v.transpose().mean()"
   ]
  },
  {
   "cell_type": "code",
   "execution_count": 22,
   "id": "070f0588-7e91-4d0b-8e91-af9d00491366",
   "metadata": {},
   "outputs": [],
   "source": [
    "gcm_list = ['CCSM4', 'CNRM-CM5', 'CSIRO-Mk3-6-0', 'CanESM2', 'GFDL-CM3', 'GFDL-ESM2G', 'GISS-E2-R', 'IPSL-CM5A-LR', 'MPI-ESM-LR', 'NorESM1-M']\n",
    "date_list = ['2023-01-12', '2023-01-23', '2023-01-17', '2023-01-23', '2023-01-23', '2023-01-23', '2023-01-23', '2023-01-25', '2023-01-25', '2023-01-25']\n",
    "base = '~/Documents/Molly-thesis/Data/'\n",
    "rcp='rcp85'\n",
    "runoff = 'volume'\n",
    "\n",
    "rcp85_volume = to_dict(gcm_list, runoff_stem=runoff, fpath_stem=base, which_date=date_list, which_rcp=rcp)\n",
    "\n",
    "rcp85_df_v = pd.DataFrame(rcp85_volume)\n",
    "\n",
    "rcp85_df_v['mean'] = rcp85_df_v.transpose().mean()\n",
    "#rcp_mean = rcp26_df.transpose().rolling(window=4).mean()"
   ]
  },
  {
   "cell_type": "markdown",
   "id": "7f7fbf3d-329a-4034-8b12-aa3d1e8c10e7",
   "metadata": {},
   "source": [
    "Volume loss (mean) per RCP scenario from time 0 to 80"
   ]
  },
  {
   "cell_type": "code",
   "execution_count": 23,
   "id": "d2100c16-4c5a-499c-af58-eb527c808d08",
   "metadata": {},
   "outputs": [],
   "source": [
    "def volume_loss(volume_df):\n",
    "    vlost = volume_df.iloc[0]['mean'] - volume_df.iloc[80]['mean']\n",
    "    return vlost"
   ]
  },
  {
   "cell_type": "code",
   "execution_count": 25,
   "id": "cde617b7-50e2-421e-8b5f-9e030b18066f",
   "metadata": {},
   "outputs": [
    {
     "data": {
      "text/plain": [
       "0.30431378"
      ]
     },
     "execution_count": 25,
     "metadata": {},
     "output_type": "execute_result"
    }
   ],
   "source": [
    "volume_loss(rcp26_df_v)"
   ]
  },
  {
   "cell_type": "code",
   "execution_count": 24,
   "id": "7c03e153-aff8-4a09-8122-175fcd54035e",
   "metadata": {
    "tags": []
   },
   "outputs": [
    {
     "data": {
      "text/plain": [
       "0.3458913"
      ]
     },
     "execution_count": 24,
     "metadata": {},
     "output_type": "execute_result"
    }
   ],
   "source": [
    "volume_loss(rcp85_df_v)"
   ]
  },
  {
   "cell_type": "markdown",
   "id": "92fc6392-c99a-4ca1-8522-e6af6131c6fb",
   "metadata": {},
   "source": [
    "Volume differences at time 80 between 26 and 85"
   ]
  },
  {
   "cell_type": "code",
   "execution_count": 71,
   "id": "dceb9df9-88bf-4c40-9065-273a12a02b04",
   "metadata": {},
   "outputs": [
    {
     "data": {
      "text/plain": [
       "0.041577518"
      ]
     },
     "execution_count": 71,
     "metadata": {},
     "output_type": "execute_result"
    }
   ],
   "source": [
    "rcp26_df_v.iloc[80]['mean'] - rcp85_df_v.iloc[80]['mean']"
   ]
  },
  {
   "cell_type": "markdown",
   "id": "ce6279df-70df-410e-b745-0929c6a09a2f",
   "metadata": {},
   "source": [
    "Percent change volume per rcp"
   ]
  },
  {
   "cell_type": "code",
   "execution_count": 79,
   "id": "2561d40c-dbc9-42fc-855e-87b5a0c54f9f",
   "metadata": {
    "tags": []
   },
   "outputs": [
    {
     "data": {
      "text/plain": [
       "65.76952934265137"
      ]
     },
     "execution_count": 79,
     "metadata": {},
     "output_type": "execute_result"
    }
   ],
   "source": [
    "(volume_loss(rcp85_df_v)/(rcp85_df_v.iloc[0]['mean']))*100"
   ]
  },
  {
   "cell_type": "markdown",
   "id": "5a3088f5-e428-41f6-a55b-3dd62ec75aa8",
   "metadata": {},
   "source": [
    "Additional percent loss, 85 vs 26"
   ]
  },
  {
   "cell_type": "code",
   "execution_count": 66,
   "id": "14e27260-9290-4ebc-a165-656f00c43408",
   "metadata": {},
   "outputs": [
    {
     "data": {
      "text/plain": [
       "-13.662712275981903"
      ]
     },
     "execution_count": 66,
     "metadata": {},
     "output_type": "execute_result"
    }
   ],
   "source": [
    "(rcp85_df_v.iloc[80]['mean']-rcp26_df_v.iloc[80]['mean'])/(rcp26_df_v.iloc[0]['mean']-rcp26_df_v.iloc[80]['mean'])*100"
   ]
  },
  {
   "cell_type": "markdown",
   "id": "69c167ba-d149-4639-a11d-fbf1c67a3190",
   "metadata": {},
   "source": [
    "GCM spread - volume"
   ]
  },
  {
   "cell_type": "code",
   "execution_count": 45,
   "id": "c3b5a7cf-0fa6-4dc1-b5cd-3c6637ea5a87",
   "metadata": {},
   "outputs": [
    {
     "data": {
      "text/plain": [
       "0.03929542"
      ]
     },
     "execution_count": 45,
     "metadata": {},
     "output_type": "execute_result"
    }
   ],
   "source": [
    "rcp26_df_v.iloc[80].drop('mean').max() - rcp26_df_v.iloc[80].drop('mean').min()"
   ]
  },
  {
   "cell_type": "code",
   "execution_count": 40,
   "id": "20f6afad-f301-4376-acaa-2046cf9463b9",
   "metadata": {},
   "outputs": [
    {
     "data": {
      "text/plain": [
       "0.027026176"
      ]
     },
     "execution_count": 40,
     "metadata": {},
     "output_type": "execute_result"
    }
   ],
   "source": [
    "rcp45_df_v.iloc[80].drop('mean').max() - rcp45_df_v.iloc[80].drop('mean').min()"
   ]
  },
  {
   "cell_type": "code",
   "execution_count": 41,
   "id": "8fd080f2-39be-4840-ac66-02b859a01e70",
   "metadata": {},
   "outputs": [
    {
     "data": {
      "text/plain": [
       "0.027324528"
      ]
     },
     "execution_count": 41,
     "metadata": {},
     "output_type": "execute_result"
    }
   ],
   "source": [
    "rcp60_df_v.iloc[80].drop('mean').max() - rcp60_df_v.iloc[80].drop('mean').min()"
   ]
  },
  {
   "cell_type": "code",
   "execution_count": 42,
   "id": "a1274921-8d4b-40f6-bf73-cdaf038d23ef",
   "metadata": {},
   "outputs": [
    {
     "data": {
      "text/plain": [
       "0.029659897"
      ]
     },
     "execution_count": 42,
     "metadata": {},
     "output_type": "execute_result"
    }
   ],
   "source": [
    "rcp85_df_v.iloc[80].drop('mean').max() - rcp85_df_v.iloc[80].drop('mean').min()"
   ]
  },
  {
   "cell_type": "markdown",
   "id": "9e6994cb-9be1-4b2e-8666-b81d5f45836b",
   "metadata": {},
   "source": [
    "### Total runoff"
   ]
  },
  {
   "cell_type": "code",
   "execution_count": 48,
   "id": "13625354-fc2a-49fc-b6ab-9674ab46131d",
   "metadata": {},
   "outputs": [],
   "source": [
    "# Make a dictionary for rcp26 values\n",
    "rcp26_dict = {}\n",
    "\n",
    "gcm_list = ['CCSM4', 'CNRM-CM5', 'CSIRO-Mk3-6-0', 'CanESM2', 'GFDL-CM3', 'GFDL-ESM2G', 'GISS-E2-R', 'IPSL-CM5A-LR', 'MPI-ESM-LR', 'NorESM1-M']\n",
    "date_list = ['2023-01-12', '2023-01-23', '2023-01-17', '2023-01-23', '2023-01-23', '2023-01-23', '2023-01-23', '2023-01-25', '2023-01-25', '2023-01-25']\n",
    "\n",
    "base = '~/Documents/Molly-thesis/Data/'\n",
    "rcp='rcp26'\n",
    "\n",
    "x=0\n",
    "\n",
    "for gcm in gcm_list:\n",
    "    rcp26_values = make_summed_series(fpath_stem=base, which_date=date_list[x], which_gcm=gcm, which_rcp=rcp)\n",
    "    k = '{}'.format(gcm)\n",
    "    rcp26_dict[k]=rcp26_values\n",
    "    x += 1\n",
    "\n",
    "rcp26_df = pd.DataFrame(rcp26_dict)\n",
    "\n",
    "rcp26_df['mean'] = rcp26_df.transpose().mean()"
   ]
  },
  {
   "cell_type": "code",
   "execution_count": 49,
   "id": "33f74d0d-61b5-4aa3-a61c-e607a468d664",
   "metadata": {},
   "outputs": [],
   "source": [
    "# Make a dictionary for rcp45 values\n",
    "rcp45_dict = {}\n",
    "\n",
    "gcm_list = ['CCSM4', 'CNRM-CM5', 'CSIRO-Mk3-6-0', 'CanESM2', 'GFDL-CM3', 'GFDL-ESM2G', 'GISS-E2-R', 'IPSL-CM5A-LR', 'MPI-ESM-LR', 'NorESM1-M']\n",
    "date_list = ['2023-01-12', '2023-01-23', '2023-01-17', '2023-01-23', '2023-01-23', '2023-01-23', '2023-01-23', '2023-01-25', '2023-01-25', '2023-01-25']\n",
    "\n",
    "base = '~/Documents/Molly-thesis/Data/'\n",
    "rcp='rcp45'\n",
    "\n",
    "x=0\n",
    "\n",
    "for gcm in gcm_list:\n",
    "    rcp45_values = make_summed_series(fpath_stem=base, which_date=date_list[x], which_gcm=gcm, which_rcp=rcp)\n",
    "    k = '{}'.format(gcm)\n",
    "    rcp45_dict[k]=rcp45_values\n",
    "    x += 1\n",
    "\n",
    "rcp45_df = pd.DataFrame(rcp45_dict)\n",
    "\n",
    "rcp45_df['mean'] = rcp45_df.transpose().mean()\n",
    "#rcp_mean = rcp26_df.transpose().rolling(window=4).mean()"
   ]
  },
  {
   "cell_type": "code",
   "execution_count": 50,
   "id": "85b806da-3eab-4a54-854f-4df2c5b07ce4",
   "metadata": {},
   "outputs": [],
   "source": [
    "# Make a dictionary for rcp60 values\n",
    "rcp60_dict = {}\n",
    "\n",
    "gcm_list = ['CCSM4', 'CSIRO-Mk3-6-0', 'GFDL-CM3', 'GFDL-ESM2G', 'GISS-E2-R', 'IPSL-CM5A-LR', 'NorESM1-M']\n",
    "date_list = ['2023-01-12', '2023-01-17', '2023-01-23', '2023-01-23', '2023-01-23', '2023-01-25', '2023-01-25']\n",
    "\n",
    "base = '~/Documents/Molly-thesis/Data/'\n",
    "rcp='rcp60'\n",
    "\n",
    "x=0\n",
    "\n",
    "for gcm in gcm_list:\n",
    "    rcp60_values = make_summed_series(fpath_stem=base, which_date=date_list[x], which_gcm=gcm, which_rcp=rcp)\n",
    "    k = '{}'.format(gcm)\n",
    "    rcp60_dict[k]=rcp60_values\n",
    "    x += 1\n",
    "    \n",
    "rcp60_df = pd.DataFrame(rcp60_dict)\n",
    "\n",
    "rcp60_df['mean'] = rcp60_df.transpose().mean()"
   ]
  },
  {
   "cell_type": "code",
   "execution_count": 51,
   "id": "18a9048b-2c1d-4e64-956c-8f402a782e0d",
   "metadata": {},
   "outputs": [],
   "source": [
    "# Make a dictionary for rcp85 values\n",
    "rcp85_dict = {}\n",
    "\n",
    "gcm_list = ['CCSM4', 'CNRM-CM5', 'CSIRO-Mk3-6-0', 'CanESM2', 'GFDL-CM3', 'GFDL-ESM2G', 'GISS-E2-R', 'IPSL-CM5A-LR', 'MPI-ESM-LR', 'NorESM1-M']\n",
    "date_list = ['2023-01-12', '2023-01-23', '2023-01-17', '2023-01-23', '2023-01-23', '2023-01-23', '2023-01-23', '2023-01-25', '2023-01-25', '2023-01-25']\n",
    "\n",
    "base = '~/Documents/Molly-thesis/Data/'\n",
    "rcp='rcp85'\n",
    "\n",
    "x=0\n",
    "\n",
    "for gcm in gcm_list:\n",
    "    rcp85_values = make_summed_series(fpath_stem=base, which_date=date_list[x], which_gcm=gcm, which_rcp=rcp)\n",
    "    k = '{}'.format(gcm)\n",
    "    rcp85_dict[k]=rcp85_values\n",
    "    x += 1\n",
    "\n",
    "rcp85_df = pd.DataFrame(rcp85_dict)\n",
    "\n",
    "rcp85_df['mean'] = rcp85_df.transpose().mean()"
   ]
  },
  {
   "cell_type": "markdown",
   "id": "5fd0942e-c476-42c0-8f6c-0ac78e46ae6b",
   "metadata": {},
   "source": [
    "Calculate RCP spread"
   ]
  },
  {
   "cell_type": "code",
   "execution_count": 62,
   "id": "d5c68553-6815-4bf0-b75f-e9cb1cbc16a2",
   "metadata": {},
   "outputs": [
    {
     "data": {
      "text/plain": [
       "0.6847992"
      ]
     },
     "execution_count": 62,
     "metadata": {},
     "output_type": "execute_result"
    }
   ],
   "source": [
    "rcp26_df.iloc[80]['mean'] - rcp85_df.iloc[80]['mean']"
   ]
  },
  {
   "cell_type": "markdown",
   "id": "a0a3455f-fdfb-4b64-b004-4fabe1d93365",
   "metadata": {},
   "source": [
    "GCM spread - total runoff"
   ]
  },
  {
   "cell_type": "code",
   "execution_count": 67,
   "id": "bad2d295-2dec-4a5d-9fb9-2b04e3a4a8a2",
   "metadata": {},
   "outputs": [
    {
     "data": {
      "text/plain": [
       "10.592567"
      ]
     },
     "execution_count": 67,
     "metadata": {},
     "output_type": "execute_result"
    }
   ],
   "source": [
    "rcp26_df.iloc[80].drop('mean').max() - rcp26_df.iloc[80].drop('mean').min()"
   ]
  },
  {
   "cell_type": "code",
   "execution_count": 68,
   "id": "5837994b-3109-4369-a4bd-b70f1f5fc740",
   "metadata": {},
   "outputs": [
    {
     "data": {
      "text/plain": [
       "19.804094"
      ]
     },
     "execution_count": 68,
     "metadata": {},
     "output_type": "execute_result"
    }
   ],
   "source": [
    "rcp45_df.iloc[80].drop('mean').max() - rcp45_df.iloc[80].drop('mean').min()"
   ]
  },
  {
   "cell_type": "code",
   "execution_count": 69,
   "id": "2b77acdd-60a9-4abc-b60c-e042a182707d",
   "metadata": {},
   "outputs": [
    {
     "data": {
      "text/plain": [
       "16.008806"
      ]
     },
     "execution_count": 69,
     "metadata": {},
     "output_type": "execute_result"
    }
   ],
   "source": [
    "rcp60_df.iloc[80].drop('mean').max() - rcp60_df.iloc[80].drop('mean').min()"
   ]
  },
  {
   "cell_type": "code",
   "execution_count": 70,
   "id": "7ed646ba-da25-4e57-b559-7f4ec153b137",
   "metadata": {},
   "outputs": [
    {
     "data": {
      "text/plain": [
       "27.447378"
      ]
     },
     "execution_count": 70,
     "metadata": {},
     "output_type": "execute_result"
    }
   ],
   "source": [
    "rcp85_df.iloc[80].drop('mean').max() - rcp85_df.iloc[80].drop('mean').min()"
   ]
  },
  {
   "cell_type": "markdown",
   "id": "294b8094-b3da-495f-8842-332892ccb244",
   "metadata": {},
   "source": [
    "### Runoff by Component"
   ]
  },
  {
   "cell_type": "code",
   "execution_count": 73,
   "id": "b9ddd1ed-5c8f-442e-a598-aeb8dd138078",
   "metadata": {},
   "outputs": [],
   "source": [
    "gcm_list = ['CCSM4', 'CNRM-CM5', 'CSIRO-Mk3-6-0', 'CanESM2', 'GFDL-CM3', 'GFDL-ESM2G', 'GISS-E2-R', 'IPSL-CM5A-LR', 'MPI-ESM-LR', 'NorESM1-M']\n",
    "date_list = ['2023-01-12', '2023-01-23', '2023-01-17', '2023-01-23', '2023-01-23', '2023-01-23', '2023-01-23', '2023-01-25', '2023-01-25', '2023-01-25']\n",
    "base = '~/Documents/Molly-thesis/Data/'\n",
    "rcp='rcp26'\n",
    "\n",
    "runoff = 'melt_on_glacier'\n",
    "rcp26_melt_on = to_dict(gcm_list, runoff_stem=runoff, fpath_stem=base, which_date=date_list, which_rcp=rcp)\n",
    "\n",
    "runoff = 'melt_off_glacier'\n",
    "rcp26_melt_off = to_dict(gcm_list, runoff_stem=runoff, fpath_stem=base, which_date=date_list, which_rcp=rcp)\n",
    "\n",
    "runoff = 'liq_prcp_on_glacier'\n",
    "rcp26_liq_on = to_dict(gcm_list, runoff_stem=runoff, fpath_stem=base, which_date=date_list, which_rcp=rcp)\n",
    "\n",
    "runoff = 'liq_prcp_off_glacier'\n",
    "rcp26_liq_off = to_dict(gcm_list, runoff_stem=runoff, fpath_stem=base, which_date=date_list, which_rcp=rcp)\n",
    "\n",
    "rcp26_melt_on_df = to_df(rcp26_melt_on)\n",
    "rcp26_melt_off_df = to_df(rcp26_melt_off)\n",
    "rcp26_liq_on_df = to_df(rcp26_liq_on)\n",
    "rcp26_liq_off_df = to_df(rcp26_liq_off)"
   ]
  },
  {
   "cell_type": "code",
   "execution_count": 74,
   "id": "bf80279d-6a3b-4329-8ee0-71f0d6c9f897",
   "metadata": {},
   "outputs": [],
   "source": [
    "gcm_list = ['CCSM4', 'CNRM-CM5', 'CSIRO-Mk3-6-0', 'CanESM2', 'GFDL-CM3', 'GFDL-ESM2G', 'GISS-E2-R', 'IPSL-CM5A-LR', 'MPI-ESM-LR', 'NorESM1-M']\n",
    "date_list = ['2023-01-12', '2023-01-23', '2023-01-17', '2023-01-23', '2023-01-23', '2023-01-23', '2023-01-23', '2023-01-25', '2023-01-25', '2023-01-25']\n",
    "base = '~/Documents/Molly-thesis/Data/'\n",
    "rcp='rcp45'\n",
    "\n",
    "runoff = 'melt_on_glacier'\n",
    "rcp45_melt_on = to_dict(gcm_list, runoff_stem=runoff, fpath_stem=base, which_date=date_list, which_rcp=rcp)\n",
    "\n",
    "runoff = 'melt_off_glacier'\n",
    "rcp45_melt_off = to_dict(gcm_list, runoff_stem=runoff, fpath_stem=base, which_date=date_list, which_rcp=rcp)\n",
    "\n",
    "runoff = 'liq_prcp_on_glacier'\n",
    "rcp45_liq_on = to_dict(gcm_list, runoff_stem=runoff, fpath_stem=base, which_date=date_list, which_rcp=rcp)\n",
    "\n",
    "runoff = 'liq_prcp_off_glacier'\n",
    "rcp45_liq_off = to_dict(gcm_list, runoff_stem=runoff, fpath_stem=base, which_date=date_list, which_rcp=rcp)\n",
    "\n",
    "rcp45_melt_on_df = to_df(rcp45_melt_on)\n",
    "rcp45_melt_off_df = to_df(rcp45_melt_off)\n",
    "rcp45_liq_on_df = to_df(rcp45_liq_on)\n",
    "rcp45_liq_off_df = to_df(rcp45_liq_off)"
   ]
  },
  {
   "cell_type": "code",
   "execution_count": 75,
   "id": "31c3ebf5-cacb-4f54-bfcf-1d3e587e5639",
   "metadata": {},
   "outputs": [],
   "source": [
    "gcm_list = ['CCSM4', 'CSIRO-Mk3-6-0', 'GFDL-CM3', 'GFDL-ESM2G', 'GISS-E2-R', 'IPSL-CM5A-LR', 'NorESM1-M']\n",
    "date_list = ['2023-01-12', '2023-01-17', '2023-01-23', '2023-01-23', '2023-01-23', '2023-01-25', '2023-01-25']\n",
    "base = '~/Documents/Molly-thesis/Data/'\n",
    "rcp='rcp60'\n",
    "\n",
    "runoff = 'melt_on_glacier'\n",
    "rcp60_melt_on = to_dict(gcm_list, runoff_stem=runoff, fpath_stem=base, which_date=date_list, which_rcp=rcp)\n",
    "\n",
    "runoff = 'melt_off_glacier'\n",
    "rcp60_melt_off = to_dict(gcm_list, runoff_stem=runoff, fpath_stem=base, which_date=date_list, which_rcp=rcp)\n",
    "\n",
    "runoff = 'liq_prcp_on_glacier'\n",
    "rcp60_liq_on = to_dict(gcm_list, runoff_stem=runoff, fpath_stem=base, which_date=date_list, which_rcp=rcp)\n",
    "\n",
    "runoff = 'liq_prcp_off_glacier'\n",
    "rcp60_liq_off = to_dict(gcm_list, runoff_stem=runoff, fpath_stem=base, which_date=date_list, which_rcp=rcp)\n",
    "\n",
    "rcp60_melt_on_df = to_df(rcp60_melt_on)\n",
    "rcp60_melt_off_df = to_df(rcp60_melt_off)\n",
    "rcp60_liq_on_df = to_df(rcp60_liq_on)\n",
    "rcp60_liq_off_df = to_df(rcp60_liq_off)"
   ]
  },
  {
   "cell_type": "code",
   "execution_count": 76,
   "id": "d14f1c1e-3110-440e-8404-5858d0c76a26",
   "metadata": {},
   "outputs": [],
   "source": [
    "gcm_list = ['CCSM4', 'CNRM-CM5', 'CSIRO-Mk3-6-0', 'CanESM2', 'GFDL-CM3', 'GFDL-ESM2G', 'GISS-E2-R', 'IPSL-CM5A-LR', 'MPI-ESM-LR', 'NorESM1-M']\n",
    "date_list = ['2023-01-12', '2023-01-23', '2023-01-17', '2023-01-23', '2023-01-23', '2023-01-23', '2023-01-23', '2023-01-25', '2023-01-25', '2023-01-25']\n",
    "base = '~/Documents/Molly-thesis/Data/'\n",
    "rcp='rcp85'\n",
    "\n",
    "runoff = 'melt_on_glacier'\n",
    "rcp85_melt_on = to_dict(gcm_list, runoff_stem=runoff, fpath_stem=base, which_date=date_list, which_rcp=rcp)\n",
    "\n",
    "runoff = 'melt_off_glacier'\n",
    "rcp85_melt_off = to_dict(gcm_list, runoff_stem=runoff, fpath_stem=base, which_date=date_list, which_rcp=rcp)\n",
    "\n",
    "runoff = 'liq_prcp_on_glacier'\n",
    "rcp85_liq_on = to_dict(gcm_list, runoff_stem=runoff, fpath_stem=base, which_date=date_list, which_rcp=rcp)\n",
    "\n",
    "runoff = 'liq_prcp_off_glacier'\n",
    "rcp85_liq_off = to_dict(gcm_list, runoff_stem=runoff, fpath_stem=base, which_date=date_list, which_rcp=rcp)\n",
    "\n",
    "rcp85_melt_on_df = to_df(rcp85_melt_on)\n",
    "rcp85_melt_off_df = to_df(rcp85_melt_off)\n",
    "rcp85_liq_on_df = to_df(rcp85_liq_on)\n",
    "rcp85_liq_off_df = to_df(rcp85_liq_off)"
   ]
  },
  {
   "cell_type": "code",
   "execution_count": 77,
   "id": "2eb226aa-ecee-4abc-aa3d-dbeb37a937ef",
   "metadata": {},
   "outputs": [],
   "source": [
    "rcp26_melt_on = rcp26_melt_on_df\n",
    "rcp26_melt_off = rcp26_melt_off_df\n",
    "rcp26_prcp = (rcp26_liq_on_df + rcp26_liq_off_df)\n",
    "\n",
    "rcp45_melt_on = rcp45_melt_on_df\n",
    "rcp45_melt_off = rcp45_melt_off_df\n",
    "rcp45_prcp = (rcp45_liq_on_df + rcp26_liq_off_df)\n",
    "\n",
    "rcp60_melt_on = rcp60_melt_on_df\n",
    "rcp60_melt_off = rcp60_melt_off_df\n",
    "rcp60_prcp = (rcp60_liq_on_df + rcp60_liq_off_df)\n",
    "\n",
    "rcp85_melt_on = rcp85_melt_on_df\n",
    "rcp85_melt_off = rcp85_melt_off_df\n",
    "rcp85_prcp = (rcp85_liq_on_df + rcp85_liq_off_df)"
   ]
  },
  {
   "cell_type": "markdown",
   "id": "3b8e9f77-3a4e-40ab-ba50-e1064032b36b",
   "metadata": {},
   "source": [
    "#### Liquid precip"
   ]
  },
  {
   "cell_type": "code",
   "execution_count": 84,
   "id": "98fb7291-c2f2-48a2-8af1-f7cc34c04064",
   "metadata": {},
   "outputs": [
    {
     "name": "stdout",
     "output_type": "stream",
     "text": [
      "34.812347 34.647404 36.51432 36.083523\n"
     ]
    }
   ],
   "source": [
    "print(rcp26_prcp.iloc[80]['mean'],\n",
    "      rcp45_prcp.iloc[80]['mean'],\n",
    "      rcp60_prcp.iloc[80]['mean'],\n",
    "      rcp85_prcp.iloc[80]['mean'],\n",
    "     )"
   ]
  },
  {
   "cell_type": "code",
   "execution_count": 85,
   "id": "d81a0996-ec2d-4daa-96b2-40ccf2231cb1",
   "metadata": {},
   "outputs": [
    {
     "data": {
      "text/plain": [
       "1.701973"
      ]
     },
     "execution_count": 85,
     "metadata": {},
     "output_type": "execute_result"
    }
   ],
   "source": [
    "rcp60_prcp.iloc[80]['mean'] - rcp26_prcp.iloc[80]['mean']"
   ]
  },
  {
   "cell_type": "markdown",
   "id": "7e9189ea-48ed-496f-927c-f625b4d63713",
   "metadata": {},
   "source": [
    "GCM spread - precip"
   ]
  },
  {
   "cell_type": "code",
   "execution_count": 86,
   "id": "e8d60119-e471-48ba-ba98-3aed1ca858c0",
   "metadata": {},
   "outputs": [
    {
     "data": {
      "text/plain": [
       "8.744442"
      ]
     },
     "execution_count": 86,
     "metadata": {},
     "output_type": "execute_result"
    }
   ],
   "source": [
    "rcp26_prcp.iloc[80].drop('mean').max() - rcp26_prcp.iloc[80].drop('mean').min()"
   ]
  },
  {
   "cell_type": "code",
   "execution_count": 87,
   "id": "300a8ec3-508f-45b9-b367-656ae3fb6ce3",
   "metadata": {},
   "outputs": [
    {
     "data": {
      "text/plain": [
       "8.209923"
      ]
     },
     "execution_count": 87,
     "metadata": {},
     "output_type": "execute_result"
    }
   ],
   "source": [
    "rcp45_prcp.iloc[80].drop('mean').max() - rcp45_prcp.iloc[80].drop('mean').min()"
   ]
  },
  {
   "cell_type": "code",
   "execution_count": 88,
   "id": "6e7e5e73-fd60-4932-8044-cd882910fbc8",
   "metadata": {},
   "outputs": [
    {
     "data": {
      "text/plain": [
       "15.196966"
      ]
     },
     "execution_count": 88,
     "metadata": {},
     "output_type": "execute_result"
    }
   ],
   "source": [
    "rcp60_prcp.iloc[80].drop('mean').max() - rcp60_prcp.iloc[80].drop('mean').min()"
   ]
  },
  {
   "cell_type": "code",
   "execution_count": 89,
   "id": "ded569dc-8910-48f3-b11a-7393041ebb6f",
   "metadata": {},
   "outputs": [
    {
     "data": {
      "text/plain": [
       "27.01123"
      ]
     },
     "execution_count": 89,
     "metadata": {},
     "output_type": "execute_result"
    }
   ],
   "source": [
    "rcp85_prcp.iloc[80].drop('mean').max() - rcp85_prcp.iloc[80].drop('mean').min()"
   ]
  },
  {
   "cell_type": "markdown",
   "id": "2fdc4e3f-03ba-418f-b2c9-1b24f0b51a69",
   "metadata": {},
   "source": [
    "#### Melt on glacier"
   ]
  },
  {
   "cell_type": "code",
   "execution_count": 90,
   "id": "daf20489-3f88-45a2-a9cc-35922ae92856",
   "metadata": {},
   "outputs": [
    {
     "name": "stdout",
     "output_type": "stream",
     "text": [
      "1.3366468 1.130198 1.087637 1.1932846\n"
     ]
    }
   ],
   "source": [
    "print(rcp26_melt_on.iloc[80]['mean'],\n",
    "      rcp45_melt_on.iloc[80]['mean'],\n",
    "      rcp60_melt_on.iloc[80]['mean'],\n",
    "      rcp85_melt_on.iloc[80]['mean'],\n",
    "     )"
   ]
  },
  {
   "cell_type": "code",
   "execution_count": 92,
   "id": "040e7c54-be4a-45cd-952c-7d59093c1787",
   "metadata": {},
   "outputs": [
    {
     "data": {
      "text/plain": [
       "0.24900985"
      ]
     },
     "execution_count": 92,
     "metadata": {},
     "output_type": "execute_result"
    }
   ],
   "source": [
    "rcp26_melt_on.iloc[80]['mean']-rcp60_melt_on.iloc[80]['mean']"
   ]
  },
  {
   "cell_type": "markdown",
   "id": "d579e8b3-a2c7-4f02-9b37-21a3f5cc905d",
   "metadata": {},
   "source": [
    "GCM spread - melt on"
   ]
  },
  {
   "cell_type": "code",
   "execution_count": 93,
   "id": "cb65effa-d2d5-4d4f-a102-510420f35fa5",
   "metadata": {},
   "outputs": [
    {
     "data": {
      "text/plain": [
       "1.6760937"
      ]
     },
     "execution_count": 93,
     "metadata": {},
     "output_type": "execute_result"
    }
   ],
   "source": [
    "rcp26_melt_on.iloc[80].drop('mean').max() - rcp26_melt_on.iloc[80].drop('mean').min()"
   ]
  },
  {
   "cell_type": "code",
   "execution_count": 94,
   "id": "56b688d7-bf52-4cbd-99ca-4bd1890053f8",
   "metadata": {},
   "outputs": [
    {
     "data": {
      "text/plain": [
       "0.6737865"
      ]
     },
     "execution_count": 94,
     "metadata": {},
     "output_type": "execute_result"
    }
   ],
   "source": [
    "rcp45_melt_on.iloc[80].drop('mean').max() - rcp45_melt_on.iloc[80].drop('mean').min()"
   ]
  },
  {
   "cell_type": "code",
   "execution_count": 95,
   "id": "406795a5-a633-4279-a38c-0d0eaedeafd3",
   "metadata": {},
   "outputs": [
    {
     "data": {
      "text/plain": [
       "1.0543994"
      ]
     },
     "execution_count": 95,
     "metadata": {},
     "output_type": "execute_result"
    }
   ],
   "source": [
    "rcp60_melt_on.iloc[80].drop('mean').max() - rcp60_melt_on.iloc[80].drop('mean').min()"
   ]
  },
  {
   "cell_type": "code",
   "execution_count": 96,
   "id": "7c25a3bb-910c-4904-ac0e-83a202b45fe4",
   "metadata": {},
   "outputs": [
    {
     "data": {
      "text/plain": [
       "0.8987329"
      ]
     },
     "execution_count": 96,
     "metadata": {},
     "output_type": "execute_result"
    }
   ],
   "source": [
    "rcp85_melt_on.iloc[80].drop('mean').max() - rcp85_melt_on.iloc[80].drop('mean').min()"
   ]
  },
  {
   "cell_type": "markdown",
   "id": "3a5b085f-7ea2-44ba-9c00-cd93fc45131c",
   "metadata": {},
   "source": [
    "#### Melt off glacier"
   ]
  },
  {
   "cell_type": "code",
   "execution_count": 97,
   "id": "9a3a5567-26df-49c9-9466-4f847eb5d11b",
   "metadata": {},
   "outputs": [
    {
     "name": "stdout",
     "output_type": "stream",
     "text": [
      "1.8405902 0.43998298 0.19159718 0.027971124\n"
     ]
    }
   ],
   "source": [
    "print(rcp26_melt_off.iloc[80]['mean'],\n",
    "      rcp45_melt_off.iloc[80]['mean'],\n",
    "      rcp60_melt_off.iloc[80]['mean'],\n",
    "      rcp85_melt_off.iloc[80]['mean'],\n",
    "     )"
   ]
  },
  {
   "cell_type": "code",
   "execution_count": 98,
   "id": "25fdc0ed-3e03-4605-8460-fea676160fa6",
   "metadata": {},
   "outputs": [
    {
     "data": {
      "text/plain": [
       "1.8126191"
      ]
     },
     "execution_count": 98,
     "metadata": {},
     "output_type": "execute_result"
    }
   ],
   "source": [
    "rcp26_melt_off.iloc[80]['mean']-rcp85_melt_off.iloc[80]['mean']"
   ]
  },
  {
   "cell_type": "markdown",
   "id": "29438d16-684b-4f8b-95f1-0719244671ea",
   "metadata": {},
   "source": [
    "GCM spread - melt off"
   ]
  },
  {
   "cell_type": "code",
   "execution_count": 99,
   "id": "66728e87-7dfb-4464-bb44-e999df8ec2bb",
   "metadata": {},
   "outputs": [
    {
     "data": {
      "text/plain": [
       "3.9634352"
      ]
     },
     "execution_count": 99,
     "metadata": {},
     "output_type": "execute_result"
    }
   ],
   "source": [
    "rcp26_melt_off.iloc[80].drop('mean').max() - rcp26_melt_off.iloc[80].drop('mean').min()"
   ]
  },
  {
   "cell_type": "code",
   "execution_count": 100,
   "id": "e18cace6-c6aa-45b1-a1d5-c1a58ded9e7d",
   "metadata": {},
   "outputs": [
    {
     "data": {
      "text/plain": [
       "1.1233696"
      ]
     },
     "execution_count": 100,
     "metadata": {},
     "output_type": "execute_result"
    }
   ],
   "source": [
    "rcp45_melt_off.iloc[80].drop('mean').max() - rcp45_melt_off.iloc[80].drop('mean').min()"
   ]
  },
  {
   "cell_type": "code",
   "execution_count": 101,
   "id": "72af70b1-3698-45ea-836e-312ec9d42496",
   "metadata": {},
   "outputs": [
    {
     "data": {
      "text/plain": [
       "0.6604595"
      ]
     },
     "execution_count": 101,
     "metadata": {},
     "output_type": "execute_result"
    }
   ],
   "source": [
    "rcp60_melt_off.iloc[80].drop('mean').max() - rcp60_melt_off.iloc[80].drop('mean').min()"
   ]
  },
  {
   "cell_type": "code",
   "execution_count": 102,
   "id": "9a77cf56-0ed8-4864-a43c-ffad68b2fc32",
   "metadata": {},
   "outputs": [
    {
     "data": {
      "text/plain": [
       "0.08638221"
      ]
     },
     "execution_count": 102,
     "metadata": {},
     "output_type": "execute_result"
    }
   ],
   "source": [
    "rcp85_melt_off.iloc[80].drop('mean').max() - rcp85_melt_off.iloc[80].drop('mean').min()"
   ]
  },
  {
   "cell_type": "markdown",
   "id": "156dc220-575c-456d-bc80-773cc0ce9886",
   "metadata": {},
   "source": [
    "#### Pct liquid precip"
   ]
  },
  {
   "cell_type": "code",
   "execution_count": 111,
   "id": "ccbaf36a-77fb-4dc2-98c2-e3e06ed0fdb8",
   "metadata": {},
   "outputs": [
    {
     "data": {
      "text/plain": [
       "91.63656234741211"
      ]
     },
     "execution_count": 111,
     "metadata": {},
     "output_type": "execute_result"
    }
   ],
   "source": [
    "rcp26_prcp.iloc[80]['mean']/rcp26_df.iloc[80]['mean']*100"
   ]
  },
  {
   "cell_type": "code",
   "execution_count": 112,
   "id": "07a9b550-3f50-469c-b371-d78f2e26f1a6",
   "metadata": {},
   "outputs": [
    {
     "data": {
      "text/plain": [
       "92.62850284576416"
      ]
     },
     "execution_count": 112,
     "metadata": {},
     "output_type": "execute_result"
    }
   ],
   "source": [
    "rcp45_prcp.iloc[80]['mean']/rcp45_df.iloc[80]['mean']*100"
   ]
  },
  {
   "cell_type": "code",
   "execution_count": 113,
   "id": "03a6cc70-1283-49a0-aa92-1232beec9210",
   "metadata": {},
   "outputs": [
    {
     "data": {
      "text/plain": [
       "96.61521315574646"
      ]
     },
     "execution_count": 113,
     "metadata": {},
     "output_type": "execute_result"
    }
   ],
   "source": [
    "rcp60_prcp.iloc[80]['mean']/rcp60_df.iloc[80]['mean']*100"
   ]
  },
  {
   "cell_type": "code",
   "execution_count": 114,
   "id": "f5b3c174-be9c-44e4-99f8-fe41589d2c9a",
   "metadata": {},
   "outputs": [
    {
     "data": {
      "text/plain": [
       "96.72626256942749"
      ]
     },
     "execution_count": 114,
     "metadata": {},
     "output_type": "execute_result"
    }
   ],
   "source": [
    "rcp85_prcp.iloc[80]['mean']/rcp85_df.iloc[80]['mean']*100"
   ]
  },
  {
   "cell_type": "code",
   "execution_count": 115,
   "id": "1484359d-63cc-4fb2-ad93-3beaca1c506c",
   "metadata": {},
   "outputs": [
    {
     "data": {
      "text/plain": [
       "62.72662878036499"
      ]
     },
     "execution_count": 115,
     "metadata": {},
     "output_type": "execute_result"
    }
   ],
   "source": [
    "rcp26_prcp.iloc[0]['mean']/rcp26_df.iloc[0]['mean']*100"
   ]
  },
  {
   "cell_type": "code",
   "execution_count": 116,
   "id": "f7cbacd7-ce4b-48e2-a922-8267ba834e80",
   "metadata": {},
   "outputs": [
    {
     "data": {
      "text/plain": [
       "63.548219203948975"
      ]
     },
     "execution_count": 116,
     "metadata": {},
     "output_type": "execute_result"
    }
   ],
   "source": [
    "rcp45_prcp.iloc[0]['mean']/rcp45_df.iloc[0]['mean']*100"
   ]
  },
  {
   "cell_type": "code",
   "execution_count": 117,
   "id": "8c8c6fe9-b231-43bb-b09f-07d2529c4495",
   "metadata": {},
   "outputs": [
    {
     "data": {
      "text/plain": [
       "63.756972551345825"
      ]
     },
     "execution_count": 117,
     "metadata": {},
     "output_type": "execute_result"
    }
   ],
   "source": [
    "rcp60_prcp.iloc[0]['mean']/rcp60_df.iloc[0]['mean']*100"
   ]
  },
  {
   "cell_type": "code",
   "execution_count": 118,
   "id": "ec3ba695-b0a0-4843-86ab-c6265ac6ba8a",
   "metadata": {},
   "outputs": [
    {
     "data": {
      "text/plain": [
       "62.39039897918701"
      ]
     },
     "execution_count": 118,
     "metadata": {},
     "output_type": "execute_result"
    }
   ],
   "source": [
    "rcp85_prcp.iloc[0]['mean']/rcp85_df.iloc[0]['mean']*100"
   ]
  },
  {
   "cell_type": "markdown",
   "id": "2e13beb4-24e3-4436-be8a-7d3083eeb7b8",
   "metadata": {},
   "source": [
    "# <b> Seasonal Calculations"
   ]
  },
  {
   "cell_type": "markdown",
   "id": "a6ee6d1f-76e9-431a-9ae9-a20a47f112a3",
   "metadata": {},
   "source": [
    "Seasonal calculations are in \"Seasonal April\" notebook"
   ]
  }
 ],
 "metadata": {
  "kernelspec": {
   "display_name": "Python 3 (ipykernel)",
   "language": "python",
   "name": "python3"
  },
  "language_info": {
   "codemirror_mode": {
    "name": "ipython",
    "version": 3
   },
   "file_extension": ".py",
   "mimetype": "text/x-python",
   "name": "python",
   "nbconvert_exporter": "python",
   "pygments_lexer": "ipython3",
   "version": "3.9.13"
  }
 },
 "nbformat": 4,
 "nbformat_minor": 5
}
